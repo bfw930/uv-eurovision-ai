{
 "cells": [
  {
   "cell_type": "code",
   "execution_count": 1,
   "metadata": {},
   "outputs": [],
   "source": [
    "# set auto reload imported modules\n",
    "%load_ext autoreload\n",
    "%autoreload 2\n"
   ]
  },
  {
   "cell_type": "code",
   "execution_count": 2,
   "metadata": {},
   "outputs": [],
   "source": [
    "# add custom python packages directory to path and import uv sir libs\n",
    "import sys\n",
    "sys.path.append('../libs/')\n",
    "\n",
    "#import uvsir libraries\n",
    "import uvsirlibs"
   ]
  },
  {
   "cell_type": "code",
   "execution_count": 3,
   "metadata": {},
   "outputs": [],
   "source": [
    "''' initialise uvsirlibs development environment '''\n",
    "\n",
    "# data array processing\n",
    "import numpy as np\n",
    "\n",
    "import sklearn\n",
    "\n",
    "# scipy libraries for signals and image analysis\n",
    "import scipy\n",
    "\n",
    "# density clustering using HDBSCAN* algorithm\n",
    "import hdbscan\n",
    "\n",
    "# dimensionality reduction using UMAP\n",
    "import umap\n",
    "\n",
    "\n",
    "# librosa audio processing and analysis library\n",
    "import librosa\n",
    "import librosa.display\n",
    "\n",
    "\n",
    "# plotting with matplotlib, inline interactive notebook\n",
    "%matplotlib widget\n",
    "from matplotlib import pyplot as plt\n",
    "\n",
    "import matplotlib.colors as colors\n",
    "import matplotlib.cm as cmx\n",
    "\n",
    "# import ipython display, ipd.Audio playback widget\n",
    "import IPython.display as ipd"
   ]
  },
  {
   "cell_type": "code",
   "execution_count": 13,
   "metadata": {},
   "outputs": [],
   "source": [
    "''' load dataset for classifier training '''\n",
    "\n",
    "dataset = uvsirlibs.database.storage.load_from_file('../data/', 'train_dataset.db')\n"
   ]
  },
  {
   "cell_type": "code",
   "execution_count": 14,
   "metadata": {},
   "outputs": [
    {
     "name": "stdout",
     "output_type": "stream",
     "text": [
      "(9348, 13)\n"
     ]
    }
   ],
   "source": [
    "''' generate embedding '''\n",
    "\n",
    "# select data subset\n",
    "_data = dataset['data'][::].copy()\n",
    "\n",
    "print(_data.shape)\n",
    "\n",
    "\n",
    "# initialise dataset scaler (zero mean, unit variance) \n",
    "scaler = sklearn.preprocessing.StandardScaler()\n",
    "scaler.fit(_data)\n",
    "\n",
    "# normalise dataset\n",
    "_data = scaler.transform(_data)\n",
    "\n",
    "\n",
    "#scaler.mean_\n",
    "#scaler.scale_\n"
   ]
  },
  {
   "cell_type": "code",
   "execution_count": 8,
   "metadata": {
    "collapsed": true,
    "jupyter": {
     "outputs_hidden": true
    }
   },
   "outputs": [
    {
     "name": "stderr",
     "output_type": "stream",
     "text": [
      "/home/brendan/.local/share/virtualenvs/uvsirlibs-NlyMtXzZ/lib/python3.7/site-packages/numba/compiler.py:602: NumbaPerformanceWarning: \n",
      "The keyword argument 'parallel=True' was specified but no transformation for parallel execution was possible.\n",
      "\n",
      "To find out why, try turning on parallel diagnostics, see http://numba.pydata.org/numba-doc/latest/user/parallel.html#diagnostics for help.\n",
      "\n",
      "File \"../../../.local/share/virtualenvs/uvsirlibs-NlyMtXzZ/lib/python3.7/site-packages/umap/rp_tree.py\", line 135:\n",
      "@numba.njit(fastmath=True, nogil=True, parallel=True)\n",
      "def euclidean_random_projection_split(data, indices, rng_state):\n",
      "^\n",
      "\n",
      "  self.func_ir.loc))\n",
      "/home/brendan/.local/share/virtualenvs/uvsirlibs-NlyMtXzZ/lib/python3.7/site-packages/umap/nndescent.py:92: NumbaPerformanceWarning: \n",
      "The keyword argument 'parallel=True' was specified but no transformation for parallel execution was possible.\n",
      "\n",
      "To find out why, try turning on parallel diagnostics, see http://numba.pydata.org/numba-doc/latest/user/parallel.html#diagnostics for help.\n",
      "\n",
      "File \"../../../.local/share/virtualenvs/uvsirlibs-NlyMtXzZ/lib/python3.7/site-packages/umap/utils.py\", line 409:\n",
      "@numba.njit(parallel=True)\n",
      "def build_candidates(current_graph, n_vertices, n_neighbors, max_candidates, rng_state):\n",
      "^\n",
      "\n",
      "  current_graph, n_vertices, n_neighbors, max_candidates, rng_state\n",
      "/home/brendan/.local/share/virtualenvs/uvsirlibs-NlyMtXzZ/lib/python3.7/site-packages/numba/compiler.py:602: NumbaPerformanceWarning: \n",
      "The keyword argument 'parallel=True' was specified but no transformation for parallel execution was possible.\n",
      "\n",
      "To find out why, try turning on parallel diagnostics, see http://numba.pydata.org/numba-doc/latest/user/parallel.html#diagnostics for help.\n",
      "\n",
      "File \"../../../.local/share/virtualenvs/uvsirlibs-NlyMtXzZ/lib/python3.7/site-packages/umap/nndescent.py\", line 47:\n",
      "    @numba.njit(parallel=True)\n",
      "    def nn_descent(\n",
      "    ^\n",
      "\n",
      "  self.func_ir.loc))\n"
     ]
    }
   ],
   "source": [
    "''' perform manifold embedding '''\n",
    "\n",
    "# get 2d embedding of feature dimensions\n",
    "mapper, embedding = uvsirlibs.get_2d_embedding(_data, 30, .5)\n"
   ]
  },
  {
   "cell_type": "code",
   "execution_count": 12,
   "metadata": {},
   "outputs": [
    {
     "data": {
      "application/vnd.jupyter.widget-view+json": {
       "model_id": "d90bc00f690c402e919483d9e6857f91",
       "version_major": 2,
       "version_minor": 0
      },
      "text/plain": [
       "Canvas(toolbar=Toolbar(toolitems=[('Home', 'Reset original view', 'home', 'home'), ('Back', 'Back to previous …"
      ]
     },
     "metadata": {},
     "output_type": "display_data"
    },
    {
     "name": "stderr",
     "output_type": "stream",
     "text": [
      "/home/brendan/.local/share/virtualenvs/uvsirlibs-NlyMtXzZ/lib/python3.7/site-packages/matplotlib/collections.py:857: RuntimeWarning: invalid value encountered in sqrt\n",
      "  scale = np.sqrt(self._sizes) * dpi / 72.0 * self._factor\n"
     ]
    }
   ],
   "source": [
    "# initialise figure\n",
    "_w = 9; _h = 9\n",
    "fig = plt.figure(figsize = (_w, _h))\n",
    "fig.canvas.layout.width = '{}in'.format(_w); fig.canvas.layout.height = '{}in'.format(_h)\n",
    "plt.grid(); plt.xticks([]); plt.yticks([])\n",
    "\n",
    "\n",
    "size = 'energy-rms'\n",
    "#size = 'chroma-note_delta'\n",
    "#size = 'seg_track_depth'\n",
    "#size = 'chroma-note_var'\n",
    "s = _data[:, dataset['features'].index(size)].copy()#; s += s.min(); s /= s.max()\n",
    "\n",
    "#color = 'energy-rms'\n",
    "#color = 'seg_track_depth'\n",
    "color = 'chroma-note_delta'\n",
    "c = _data[:, dataset['features'].index(color)].copy()#; c += c.min(); c /= c.max()\n",
    "\n",
    "\n",
    "# plot scatter embeding \n",
    "plt.scatter(*embedding.T, c = c, s = -s * 50, alpha = 0.6, edgecolor = '', cmap = 'magma')\n",
    "#plt.colorbar()\n",
    "#plt.scatter(*embedding.T, c = 'k', alpha = 0.6)\n",
    "\n",
    "# display figure\n",
    "plt.tight_layout()\n",
    "plt.show()\n"
   ]
  },
  {
   "cell_type": "code",
   "execution_count": null,
   "metadata": {},
   "outputs": [],
   "source": []
  }
 ],
 "metadata": {
  "kernelspec": {
   "display_name": "uvsirlibs",
   "language": "python",
   "name": "uvsirlibs"
  },
  "language_info": {
   "codemirror_mode": {
    "name": "ipython",
    "version": 3
   },
   "file_extension": ".py",
   "mimetype": "text/x-python",
   "name": "python",
   "nbconvert_exporter": "python",
   "pygments_lexer": "ipython3",
   "version": "3.7.5"
  },
  "widgets": {
   "application/vnd.jupyter.widget-state+json": {
    "state": {
     "0b9ad75232694255bbaecbac4a9a14b6": {
      "model_module": "jupyter-matplotlib",
      "model_module_version": "^0.4.2",
      "model_name": "ToolbarModel",
      "state": {
       "layout": "IPY_MODEL_3edc7623b1e24c77a4c79a94835d7e76",
       "toolitems": [
        [
         "Home",
         "Reset original view",
         "home",
         "home"
        ],
        [
         "Back",
         "Back to previous view",
         "arrow-left",
         "back"
        ],
        [
         "Forward",
         "Forward to next view",
         "arrow-right",
         "forward"
        ],
        [
         "Pan",
         "Pan axes with left mouse, zoom with right",
         "arrows",
         "pan"
        ],
        [
         "Zoom",
         "Zoom to rectangle",
         "square-o",
         "zoom"
        ],
        [
         "Download",
         "Download plot",
         "floppy-o",
         "save_figure"
        ]
       ]
      }
     },
     "2998500220344c56a3d14a3327ad9e1b": {
      "model_module": "jupyter-matplotlib",
      "model_module_version": "^0.4.2",
      "model_name": "ToolbarModel",
      "state": {
       "layout": "IPY_MODEL_73062b4c35894baf8acee2ac9d5fb055",
       "toolitems": [
        [
         "Home",
         "Reset original view",
         "home",
         "home"
        ],
        [
         "Back",
         "Back to previous view",
         "arrow-left",
         "back"
        ],
        [
         "Forward",
         "Forward to next view",
         "arrow-right",
         "forward"
        ],
        [
         "Pan",
         "Pan axes with left mouse, zoom with right",
         "arrows",
         "pan"
        ],
        [
         "Zoom",
         "Zoom to rectangle",
         "square-o",
         "zoom"
        ],
        [
         "Download",
         "Download plot",
         "floppy-o",
         "save_figure"
        ]
       ]
      }
     },
     "37411a7f17bf458b87e630ca44c83254": {
      "model_module": "@jupyter-widgets/base",
      "model_module_version": "1.2.0",
      "model_name": "LayoutModel",
      "state": {}
     },
     "3edc7623b1e24c77a4c79a94835d7e76": {
      "model_module": "@jupyter-widgets/base",
      "model_module_version": "1.2.0",
      "model_name": "LayoutModel",
      "state": {}
     },
     "73062b4c35894baf8acee2ac9d5fb055": {
      "model_module": "@jupyter-widgets/base",
      "model_module_version": "1.2.0",
      "model_name": "LayoutModel",
      "state": {}
     },
     "7a1fb5d97ef140a6a55ef6546403465d": {
      "model_module": "jupyter-matplotlib",
      "model_module_version": "^0.4.2",
      "model_name": "ToolbarModel",
      "state": {
       "layout": "IPY_MODEL_37411a7f17bf458b87e630ca44c83254",
       "toolitems": [
        [
         "Home",
         "Reset original view",
         "home",
         "home"
        ],
        [
         "Back",
         "Back to previous view",
         "arrow-left",
         "back"
        ],
        [
         "Forward",
         "Forward to next view",
         "arrow-right",
         "forward"
        ],
        [
         "Pan",
         "Pan axes with left mouse, zoom with right",
         "arrows",
         "pan"
        ],
        [
         "Zoom",
         "Zoom to rectangle",
         "square-o",
         "zoom"
        ],
        [
         "Download",
         "Download plot",
         "floppy-o",
         "save_figure"
        ]
       ]
      }
     },
     "7ba4515f3fc74c34bd7fec33646813af": {
      "model_module": "@jupyter-widgets/base",
      "model_module_version": "1.2.0",
      "model_name": "LayoutModel",
      "state": {
       "height": "9in",
       "width": "9in"
      }
     },
     "8a0ee288ca2440bca82578e0231d078f": {
      "model_module": "jupyter-matplotlib",
      "model_module_version": "^0.4.2",
      "model_name": "MPLCanvasModel",
      "state": {
       "layout": "IPY_MODEL_e6aa006b440c4f5b82fffed5fe54fcdb",
       "toolbar": "IPY_MODEL_d386178a726047a3a40b8fdba5b9a35c",
       "toolbar_position": "left"
      }
     },
     "9d93b5beb49a45858cad03ca0aeda65c": {
      "model_module": "@jupyter-widgets/base",
      "model_module_version": "1.2.0",
      "model_name": "LayoutModel",
      "state": {}
     },
     "a171e532b3fd42a8b9d4a169f16b6de2": {
      "model_module": "jupyter-matplotlib",
      "model_module_version": "^0.4.2",
      "model_name": "MPLCanvasModel",
      "state": {
       "layout": "IPY_MODEL_ebfface3f1bf42a8a2e942a61501726a",
       "toolbar": "IPY_MODEL_2998500220344c56a3d14a3327ad9e1b",
       "toolbar_position": "left"
      }
     },
     "ae8de4709537482baec3d5829c096f5d": {
      "model_module": "jupyter-matplotlib",
      "model_module_version": "^0.4.2",
      "model_name": "MPLCanvasModel",
      "state": {
       "layout": "IPY_MODEL_7ba4515f3fc74c34bd7fec33646813af",
       "toolbar": "IPY_MODEL_0b9ad75232694255bbaecbac4a9a14b6",
       "toolbar_position": "left"
      }
     },
     "d386178a726047a3a40b8fdba5b9a35c": {
      "model_module": "jupyter-matplotlib",
      "model_module_version": "^0.4.2",
      "model_name": "ToolbarModel",
      "state": {
       "layout": "IPY_MODEL_9d93b5beb49a45858cad03ca0aeda65c",
       "toolitems": [
        [
         "Home",
         "Reset original view",
         "home",
         "home"
        ],
        [
         "Back",
         "Back to previous view",
         "arrow-left",
         "back"
        ],
        [
         "Forward",
         "Forward to next view",
         "arrow-right",
         "forward"
        ],
        [
         "Pan",
         "Pan axes with left mouse, zoom with right",
         "arrows",
         "pan"
        ],
        [
         "Zoom",
         "Zoom to rectangle",
         "square-o",
         "zoom"
        ],
        [
         "Download",
         "Download plot",
         "floppy-o",
         "save_figure"
        ]
       ]
      }
     },
     "d90bc00f690c402e919483d9e6857f91": {
      "model_module": "jupyter-matplotlib",
      "model_module_version": "^0.4.2",
      "model_name": "MPLCanvasModel",
      "state": {
       "layout": "IPY_MODEL_ece7a8264f124c3dae57ec5fb70fbb01",
       "toolbar": "IPY_MODEL_7a1fb5d97ef140a6a55ef6546403465d",
       "toolbar_position": "left"
      }
     },
     "e6aa006b440c4f5b82fffed5fe54fcdb": {
      "model_module": "@jupyter-widgets/base",
      "model_module_version": "1.2.0",
      "model_name": "LayoutModel",
      "state": {
       "height": "9in",
       "width": "9in"
      }
     },
     "ebfface3f1bf42a8a2e942a61501726a": {
      "model_module": "@jupyter-widgets/base",
      "model_module_version": "1.2.0",
      "model_name": "LayoutModel",
      "state": {
       "height": "9in",
       "width": "9in"
      }
     },
     "ece7a8264f124c3dae57ec5fb70fbb01": {
      "model_module": "@jupyter-widgets/base",
      "model_module_version": "1.2.0",
      "model_name": "LayoutModel",
      "state": {
       "height": "9in",
       "width": "9in"
      }
     }
    },
    "version_major": 2,
    "version_minor": 0
   }
  }
 },
 "nbformat": 4,
 "nbformat_minor": 4
}
