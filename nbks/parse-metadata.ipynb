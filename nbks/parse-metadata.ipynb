{
 "cells": [
  {
   "cell_type": "code",
   "execution_count": 18,
   "metadata": {},
   "outputs": [
    {
     "name": "stdout",
     "output_type": "stream",
     "text": [
      "The autoreload extension is already loaded. To reload it, use:\n",
      "  %reload_ext autoreload\n"
     ]
    }
   ],
   "source": [
    "''' imports '''\n",
    "\n",
    "# set auto reload imported modules\n",
    "%load_ext autoreload\n",
    "%autoreload 2\n",
    "\n",
    "# numpy for array handling\n",
    "import numpy as np\n",
    "import pandas as pd\n",
    "\n",
    "import pickle\n",
    "\n",
    "%matplotlib widget\n",
    "import matplotlib.pyplot as plt\n",
    "\n",
    "import umap\n",
    "\n",
    "#import librosa\n",
    "\n",
    "''' sample-rnn components '''\n",
    "# add sample-rnn libs directory to path\n",
    "import sys\n",
    "sys.path.append('../')\n",
    "\n",
    "#from model import SampleRNN\n"
   ]
  },
  {
   "cell_type": "code",
   "execution_count": 2,
   "metadata": {},
   "outputs": [],
   "source": [
    "''' import contestant dataset '''\n",
    "\n",
    "_path = '../data/official-dataset/contestants.csv'\n",
    "\n",
    "cont = pd.read_csv(_path)\n"
   ]
  },
  {
   "cell_type": "code",
   "execution_count": 3,
   "metadata": {},
   "outputs": [
    {
     "data": {
      "text/plain": [
       "Index(['year', 'to_country_id', 'to_country', 'performer', 'song', 'sf_num',\n",
       "       'running_final', 'running_sf', 'place_final', 'points_final',\n",
       "       'place_sf', 'points_sf', 'points_tele_final', 'points_jury_final',\n",
       "       'points_tele_sf', 'points_jury_sf', 'composers', 'lyricists', 'lyrics',\n",
       "       'youtube_url'],\n",
       "      dtype='object')"
      ]
     },
     "execution_count": 3,
     "metadata": {},
     "output_type": "execute_result"
    }
   ],
   "source": [
    "cont.columns"
   ]
  },
  {
   "cell_type": "code",
   "execution_count": 17,
   "metadata": {},
   "outputs": [
    {
     "data": {
      "text/html": [
       "<div>\n",
       "<style scoped>\n",
       "    .dataframe tbody tr th:only-of-type {\n",
       "        vertical-align: middle;\n",
       "    }\n",
       "\n",
       "    .dataframe tbody tr th {\n",
       "        vertical-align: top;\n",
       "    }\n",
       "\n",
       "    .dataframe thead th {\n",
       "        text-align: right;\n",
       "    }\n",
       "</style>\n",
       "<table border=\"1\" class=\"dataframe\">\n",
       "  <thead>\n",
       "    <tr style=\"text-align: right;\">\n",
       "      <th></th>\n",
       "      <th>year</th>\n",
       "      <th>to_country_id</th>\n",
       "      <th>to_country</th>\n",
       "      <th>performer</th>\n",
       "      <th>song</th>\n",
       "      <th>sf_num</th>\n",
       "      <th>running_final</th>\n",
       "      <th>running_sf</th>\n",
       "      <th>place_final</th>\n",
       "      <th>points_final</th>\n",
       "      <th>place_sf</th>\n",
       "      <th>points_sf</th>\n",
       "      <th>points_tele_final</th>\n",
       "      <th>points_jury_final</th>\n",
       "      <th>points_tele_sf</th>\n",
       "      <th>points_jury_sf</th>\n",
       "      <th>composers</th>\n",
       "      <th>lyricists</th>\n",
       "      <th>lyrics</th>\n",
       "      <th>youtube_url</th>\n",
       "    </tr>\n",
       "  </thead>\n",
       "  <tbody>\n",
       "    <tr>\n",
       "      <th>1561</th>\n",
       "      <td>2019</td>\n",
       "      <td>ie</td>\n",
       "      <td>Ireland</td>\n",
       "      <td>Sarah McTernan</td>\n",
       "      <td>22</td>\n",
       "      <td>2.0</td>\n",
       "      <td>NaN</td>\n",
       "      <td>2.0</td>\n",
       "      <td>NaN</td>\n",
       "      <td>NaN</td>\n",
       "      <td>18.0</td>\n",
       "      <td>NaN</td>\n",
       "      <td>NaN</td>\n",
       "      <td>NaN</td>\n",
       "      <td>3.0</td>\n",
       "      <td>13.0</td>\n",
       "      <td>Janieck Devy;Misha;Roel Rats</td>\n",
       "      <td>Janieck Devy;Misha;Roel Rats</td>\n",
       "      <td>I see 22, oh, and I think of you\\nLately that'...</td>\n",
       "      <td>https://youtube.com/watch?v=lX7DT9GMHQM</td>\n",
       "    </tr>\n",
       "    <tr>\n",
       "      <th>1530</th>\n",
       "      <td>2019</td>\n",
       "      <td>is</td>\n",
       "      <td>Iceland</td>\n",
       "      <td>Hatari</td>\n",
       "      <td>Hatrið mun sigra</td>\n",
       "      <td>1.0</td>\n",
       "      <td>17.0</td>\n",
       "      <td>13.0</td>\n",
       "      <td>10.0</td>\n",
       "      <td>NaN</td>\n",
       "      <td>3.0</td>\n",
       "      <td>NaN</td>\n",
       "      <td>186.0</td>\n",
       "      <td>46.0</td>\n",
       "      <td>151.0</td>\n",
       "      <td>70.0</td>\n",
       "      <td>Einar Hrafn Stefánsson;Klemens Nikulásson Hann...</td>\n",
       "      <td>Einar Hrafn Stefánsson;Klemens Nikulásson Hann...</td>\n",
       "      <td>Svallið var hömlulaust\\nÞynnkan er endalaus\\nL...</td>\n",
       "      <td>https://youtube.com/watch?v=kTb69WkBbvs</td>\n",
       "    </tr>\n",
       "    <tr>\n",
       "      <th>1539</th>\n",
       "      <td>2019</td>\n",
       "      <td>sm</td>\n",
       "      <td>San Marino</td>\n",
       "      <td>Serhat</td>\n",
       "      <td>Say Na Na Na</td>\n",
       "      <td>1.0</td>\n",
       "      <td>7.0</td>\n",
       "      <td>17.0</td>\n",
       "      <td>19.0</td>\n",
       "      <td>NaN</td>\n",
       "      <td>8.0</td>\n",
       "      <td>NaN</td>\n",
       "      <td>65.0</td>\n",
       "      <td>12.0</td>\n",
       "      <td>124.0</td>\n",
       "      <td>26.0</td>\n",
       "      <td>Serhat</td>\n",
       "      <td>Mary Susan Applegate;Serhat</td>\n",
       "      <td>Na-na-na-na-na-na...\\n\\nYou look sad and lonel...</td>\n",
       "      <td>https://youtube.com/watch?v=d_iEis_ZRoQ</td>\n",
       "    </tr>\n",
       "    <tr>\n",
       "      <th>1538</th>\n",
       "      <td>2019</td>\n",
       "      <td>rs</td>\n",
       "      <td>Serbia</td>\n",
       "      <td>Nevena Božović</td>\n",
       "      <td>Kruna</td>\n",
       "      <td>1.0</td>\n",
       "      <td>23.0</td>\n",
       "      <td>9.0</td>\n",
       "      <td>18.0</td>\n",
       "      <td>NaN</td>\n",
       "      <td>7.0</td>\n",
       "      <td>NaN</td>\n",
       "      <td>54.0</td>\n",
       "      <td>35.0</td>\n",
       "      <td>65.0</td>\n",
       "      <td>91.0</td>\n",
       "      <td>Nevena Božović</td>\n",
       "      <td>Nevena Božović</td>\n",
       "      <td>Pogled mili\\nJedini dušu smiri\\nO, volim te\\n\\...</td>\n",
       "      <td>https://youtube.com/watch?v=X0mdaeAyPvA</td>\n",
       "    </tr>\n",
       "    <tr>\n",
       "      <th>1537</th>\n",
       "      <td>2019</td>\n",
       "      <td>al</td>\n",
       "      <td>Albania</td>\n",
       "      <td>Jonida Maliqi</td>\n",
       "      <td>Ktheju Tokës</td>\n",
       "      <td>2.0</td>\n",
       "      <td>2.0</td>\n",
       "      <td>14.0</td>\n",
       "      <td>17.0</td>\n",
       "      <td>NaN</td>\n",
       "      <td>9.0</td>\n",
       "      <td>NaN</td>\n",
       "      <td>47.0</td>\n",
       "      <td>43.0</td>\n",
       "      <td>58.0</td>\n",
       "      <td>38.0</td>\n",
       "      <td>Eriona Rushiti</td>\n",
       "      <td>Eriona Rushiti</td>\n",
       "      <td>Ti këndon edhe qan\\nNë duar lotët mbledh\\nI mb...</td>\n",
       "      <td>https://youtube.com/watch?v=-NAbYUoxIfg</td>\n",
       "    </tr>\n",
       "  </tbody>\n",
       "</table>\n",
       "</div>"
      ],
      "text/plain": [
       "      year to_country_id  to_country       performer              song  \\\n",
       "1561  2019            ie     Ireland  Sarah McTernan                22   \n",
       "1530  2019            is     Iceland          Hatari  Hatrið mun sigra   \n",
       "1539  2019            sm  San Marino          Serhat      Say Na Na Na   \n",
       "1538  2019            rs      Serbia  Nevena Božović             Kruna   \n",
       "1537  2019            al     Albania   Jonida Maliqi      Ktheju Tokës   \n",
       "\n",
       "      sf_num  running_final  running_sf  place_final  points_final  place_sf  \\\n",
       "1561     2.0            NaN         2.0          NaN           NaN      18.0   \n",
       "1530     1.0           17.0        13.0         10.0           NaN       3.0   \n",
       "1539     1.0            7.0        17.0         19.0           NaN       8.0   \n",
       "1538     1.0           23.0         9.0         18.0           NaN       7.0   \n",
       "1537     2.0            2.0        14.0         17.0           NaN       9.0   \n",
       "\n",
       "      points_sf  points_tele_final  points_jury_final  points_tele_sf  \\\n",
       "1561        NaN                NaN                NaN             3.0   \n",
       "1530        NaN              186.0               46.0           151.0   \n",
       "1539        NaN               65.0               12.0           124.0   \n",
       "1538        NaN               54.0               35.0            65.0   \n",
       "1537        NaN               47.0               43.0            58.0   \n",
       "\n",
       "      points_jury_sf                                          composers  \\\n",
       "1561            13.0                       Janieck Devy;Misha;Roel Rats   \n",
       "1530            70.0  Einar Hrafn Stefánsson;Klemens Nikulásson Hann...   \n",
       "1539            26.0                                             Serhat   \n",
       "1538            91.0                                     Nevena Božović   \n",
       "1537            38.0                                     Eriona Rushiti   \n",
       "\n",
       "                                              lyricists  \\\n",
       "1561                       Janieck Devy;Misha;Roel Rats   \n",
       "1530  Einar Hrafn Stefánsson;Klemens Nikulásson Hann...   \n",
       "1539                        Mary Susan Applegate;Serhat   \n",
       "1538                                     Nevena Božović   \n",
       "1537                                     Eriona Rushiti   \n",
       "\n",
       "                                                 lyrics  \\\n",
       "1561  I see 22, oh, and I think of you\\nLately that'...   \n",
       "1530  Svallið var hömlulaust\\nÞynnkan er endalaus\\nL...   \n",
       "1539  Na-na-na-na-na-na...\\n\\nYou look sad and lonel...   \n",
       "1538  Pogled mili\\nJedini dušu smiri\\nO, volim te\\n\\...   \n",
       "1537  Ti këndon edhe qan\\nNë duar lotët mbledh\\nI mb...   \n",
       "\n",
       "                                  youtube_url  \n",
       "1561  https://youtube.com/watch?v=lX7DT9GMHQM  \n",
       "1530  https://youtube.com/watch?v=kTb69WkBbvs  \n",
       "1539  https://youtube.com/watch?v=d_iEis_ZRoQ  \n",
       "1538  https://youtube.com/watch?v=X0mdaeAyPvA  \n",
       "1537  https://youtube.com/watch?v=-NAbYUoxIfg  "
      ]
     },
     "execution_count": 17,
     "metadata": {},
     "output_type": "execute_result"
    }
   ],
   "source": [
    "cont.sort_values('year', ascending = False).head()"
   ]
  },
  {
   "cell_type": "code",
   "execution_count": 28,
   "metadata": {},
   "outputs": [],
   "source": [
    "'''\n",
    "['year', 'to_country_id', 'to_country', 'performer', 'song', 'sf_num',\n",
    "       'running_final', 'running_sf', 'place_final', 'points_final',\n",
    "       'place_sf', 'points_sf', 'points_tele_final', 'points_jury_final',\n",
    "       'points_tele_sf', 'points_jury_sf', 'composers', 'lyricists', 'lyrics',\n",
    "       'youtube_url']\n",
    "'''\n",
    "\n",
    "\n",
    "\n",
    "data = {\n",
    "    'year': cont['year'].values,\n",
    "    'country': cont['to_country'].values,\n",
    "    'song': cont['song'].values,\n",
    "    'lyrics': cont['lyrics'].values,\n",
    "    'year': cont['year'].values,\n",
    "    'year': cont['year'].values,\n",
    "}\n",
    "\n",
    "with open('../data/lyrics/eurovision-lyrics', 'wb') as file:\n",
    "    pickle.dump(data, file)\n"
   ]
  },
  {
   "cell_type": "code",
   "execution_count": 6,
   "metadata": {},
   "outputs": [
    {
     "data": {
      "text/plain": [
       "0       (Refrain d'amour...)\\n\\nRefrain, couleur du ci...\n",
       "1       De vogels van Holland zijn zo muzikaal\\nZe ler...\n",
       "2       Messieurs les noyés de la Seine\\nOuvrez-moi le...\n",
       "3       Es gibt einen Hafen, da fährt kaum ein Schiff\\...\n",
       "4       Chante, carillon\\nLe chant du temps perdu\\nCha...\n",
       "                              ...                        \n",
       "1557    I have a dream\\nA dream as beautiful as it is ...\n",
       "1558    It was a lonely night\\nNo stars were shining, ...\n",
       "1559    Who are you?\\nWhat you really do?\\nWhen you ha...\n",
       "1560    Mind's got to move, but I'm so trapped within ...\n",
       "1561    I see 22, oh, and I think of you\\nLately that'...\n",
       "Name: lyrics, Length: 1562, dtype: object"
      ]
     },
     "execution_count": 6,
     "metadata": {},
     "output_type": "execute_result"
    }
   ],
   "source": [
    "cont['lyrics']"
   ]
  },
  {
   "cell_type": "code",
   "execution_count": 8,
   "metadata": {},
   "outputs": [
    {
     "data": {
      "text/plain": [
       "0                               Refrain\n",
       "1                 De Vogels Van Holland\n",
       "2       Messieurs Les Noyés De La Seine\n",
       "3         Im Wartesaal Zum Großen Glück\n",
       "4                        Le Temps Perdu\n",
       "                     ...               \n",
       "1557                          The Dream\n",
       "1558                         That Night\n",
       "1559                        Walking Out\n",
       "1560                             Limits\n",
       "1561                                 22\n",
       "Name: song, Length: 1562, dtype: object"
      ]
     },
     "execution_count": 8,
     "metadata": {},
     "output_type": "execute_result"
    }
   ],
   "source": [
    "cont['song']"
   ]
  },
  {
   "cell_type": "code",
   "execution_count": 9,
   "metadata": {},
   "outputs": [
    {
     "data": {
      "text/plain": [
       "0       1956\n",
       "1       1956\n",
       "2       1956\n",
       "3       1956\n",
       "4       1956\n",
       "        ... \n",
       "1557    2019\n",
       "1558    2019\n",
       "1559    2019\n",
       "1560    2019\n",
       "1561    2019\n",
       "Name: year, Length: 1562, dtype: int64"
      ]
     },
     "execution_count": 9,
     "metadata": {},
     "output_type": "execute_result"
    }
   ],
   "source": [
    "cont['year']"
   ]
  },
  {
   "cell_type": "code",
   "execution_count": null,
   "metadata": {},
   "outputs": [],
   "source": []
  }
 ],
 "metadata": {
  "kernelspec": {
   "display_name": "eurovision-ai",
   "language": "python",
   "name": "eurovision-ai"
  },
  "language_info": {
   "codemirror_mode": {
    "name": "ipython",
    "version": 3
   },
   "file_extension": ".py",
   "mimetype": "text/x-python",
   "name": "python",
   "nbconvert_exporter": "python",
   "pygments_lexer": "ipython3",
   "version": "3.8.1"
  },
  "widgets": {
   "application/vnd.jupyter.widget-state+json": {
    "state": {},
    "version_major": 2,
    "version_minor": 0
   }
  }
 },
 "nbformat": 4,
 "nbformat_minor": 4
}
